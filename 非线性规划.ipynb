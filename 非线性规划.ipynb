{
 "cells": [
  {
   "cell_type": "code",
   "execution_count": 1,
   "metadata": {},
   "outputs": [
    {
     "name": "stdout",
     "output_type": "stream",
     "text": [
      "目标值: 10.651091840572583\n",
      "答案为\n",
      "x1 = 0.5521673412903187\n",
      "x2 = 1.2032591818518543\n"
     ]
    }
   ],
   "source": [
    "from scipy import optimize as opt\n",
    "import numpy as np\n",
    "from scipy.optimize import minimize\n",
    "\n",
    "\n",
    "# 目标函数\n",
    "def objective(x):\n",
    "\treturn x[0] ** 2 + x[1] ** 2 + x[2] ** 2 + 8\n",
    "\n",
    "\n",
    "# 约束条件\n",
    "def constraint1(x):\n",
    "\treturn x[0] ** 2 - x[1] + x[2] ** 2  # 不等约束\n",
    "\n",
    "\n",
    "def constraint2(x):\n",
    "\treturn -(x[0] + x[1] ** 2 + x[2] ** 2 - 20)  # 不等约束\n",
    "\n",
    "\n",
    "def constraint3(x):\n",
    "\treturn -x[0] - x[1] ** 2 + 2\n",
    "\n",
    "def constraint4(x):\n",
    "\treturn x[1] + 2 * x[2] ** 2 - 3  # 不等约束\n",
    "\n",
    "\n",
    "# 边界约束\n",
    "b = (0.0, None)\n",
    "bnds = (b, b, b)\n",
    "\n",
    "con1 = {'type': 'ineq', 'fun': constraint1}\n",
    "con2 = {'type': 'ineq', 'fun': constraint2}\n",
    "con3 = {'type': 'eq', 'fun': constraint3}\n",
    "con4 = {'type': 'eq', 'fun': constraint4}\n",
    "cons = ([con1, con2, con3, con4])  # 4个约束条件\n",
    "x0 = np.array([0, 0, 0])\n",
    "# 计算\n",
    "solution = minimize(objective, x0, method='SLSQP',  bounds=bnds, constraints=cons)\n",
    "x = solution.x\n",
    "\n",
    "print('目标值: ' + str(objective(x)))\n",
    "print('答案为')\n",
    "print('x1 = ' + str(x[0]))\n",
    "print('x2 = ' + str(x[1]))"
   ]
  },
  {
   "cell_type": "markdown",
   "metadata": {},
   "source": [
    "### 选址问题"
   ]
  },
  {
   "cell_type": "markdown",
   "metadata": {},
   "source": [
    "某企业计划在美国的50个主要城市及其周边地区销售自己生产的产品，包括某种娱乐设施和某类服装。销售在网上进行。  \n",
    "为了及时将网上的订货送达客户，需要在这50个城市中的一部分城市建立仓库，为此，企业调查了城市间的公路运输时间，数据在附件1中给出，其中的数字表示两个城市之间公路运输的需要天数。如从哥伦比亚到达拉斯需要3天，而到盐湖城则需要5天。企业还调查了这 50个主要城市及其周边地区的人口、该种类娱乐设施和服装的目前的消费量及税率，数据见附件2，其中娱乐设施的消费税率和州的一般消费品的消费稅率一致，服装的消费税率在有的州得到减免。  \n",
    "例如，在 Phoenix 及其周边地区有 6.828,065人，该类服装年消费7107（千美元），该类娱乐设施年消费6308（千美元），消费品税率和服装消费税率都是5.6%。  \n",
    "  \n",
    "问题1：如果网上的订货需要在一天内送达，至少需要在多少个城市建仓库？在哪些城市建？  \n",
    "  \n",
    "问题2：如果网上购物需要按库所在地缴纳消费税，企业建仓库时要考虑为消费者减少消费税以保持企业产品的竞争力。请你建模分析：如果尽可能少建仓库，订货要保证一天内送达，而且尽可能为消费者减轻消费税负担，应该在哪几个城市建立仓库？并求出各仓库的规模比和它的供应范围。  \n",
    "  \n",
    "问题3：如果需要在美国建立一个娱乐设施工厂和一个服装厂为这些仓库供货，这两个厂应该分别建在哪里？"
   ]
  },
  {
   "cell_type": "markdown",
   "metadata": {},
   "source": [
    " 因为题目的要求是一天内送达，所以我们系数矩阵保留所有两城市距离为一天的数据，其余数据都替换为0"
   ]
  },
  {
   "cell_type": "code",
   "execution_count": null,
   "metadata": {},
   "outputs": [],
   "source": [
    "# 读取数据\n",
    "data = pd.read_excel(\"数据位置\")\n",
    "# 将 Nan 替换为  0\n",
    "data[1:50].fillna(0,inplace=True)\n",
    "#删掉无用的列 具体按个人数据实例进行操作\n",
    "del data['Unnamed: 0']\n",
    "del data['到达']\n",
    "data.drop([0],axis=0,inplace=True)\n",
    "data[1:50].fillna(0,inplace=True)\n",
    "#大于1的距离进行删除\n",
    "reachable = data.values #将Excel表中数据存储到数组中\n",
    "reachable[reachable > 1] = 0"
   ]
  },
  {
   "cell_type": "markdown",
   "metadata": {},
   "source": [
    "### 覆盖问题"
   ]
  },
  {
   "cell_type": "code",
   "execution_count": 2,
   "metadata": {},
   "outputs": [
    {
     "ename": "NameError",
     "evalue": "name 'reachable' is not defined",
     "output_type": "error",
     "traceback": [
      "\u001b[0;31m---------------------------------------------------------------------------\u001b[0m",
      "\u001b[0;31mNameError\u001b[0m                                 Traceback (most recent call last)",
      "Cell \u001b[0;32mIn[2], line 11\u001b[0m\n\u001b[1;32m      9\u001b[0m \u001b[38;5;66;03m#限制条件\u001b[39;00m\n\u001b[1;32m     10\u001b[0m \u001b[38;5;28;01mfor\u001b[39;00m j \u001b[38;5;129;01min\u001b[39;00m \u001b[38;5;28mrange\u001b[39m(\u001b[38;5;241m50\u001b[39m):\n\u001b[0;32m---> 11\u001b[0m     SetCoverLP \u001b[38;5;241m+\u001b[39m\u001b[38;5;241m=\u001b[39m (pulp\u001b[38;5;241m.\u001b[39mlpSum([x[i] \u001b[38;5;241m*\u001b[39m reachable[i][j] \u001b[38;5;28;01mfor\u001b[39;00m i \u001b[38;5;129;01min\u001b[39;00m \u001b[38;5;28mrange\u001b[39m(\u001b[38;5;241m50\u001b[39m)]) \u001b[38;5;241m>\u001b[39m\u001b[38;5;241m=\u001b[39m \u001b[38;5;241m1\u001b[39m)\n\u001b[1;32m     13\u001b[0m SetCoverLP\u001b[38;5;241m.\u001b[39msolve()\n\u001b[1;32m     15\u001b[0m \u001b[38;5;28mprint\u001b[39m(SetCoverLP\u001b[38;5;241m.\u001b[39mname)\n",
      "\u001b[0;31mNameError\u001b[0m: name 'reachable' is not defined"
     ]
    }
   ],
   "source": [
    "import pulp\n",
    "#写问题\n",
    "SetCoverLP = pulp.LpProblem(\"SetCover_problem_for_Warehouse\", sense=pulp.LpMinimize)\n",
    "#建立变量x\n",
    "Zones = list(range(50))\n",
    "x = pulp.LpVariable.dicts(\"Zone\",Zones,cat=\"Binary\") \n",
    "#目标函数    \n",
    "SetCoverLP += pulp.lpSum(x[i] for i in range(50))\n",
    "#限制条件\n",
    "for j in range(50):\n",
    "    SetCoverLP += (pulp.lpSum([x[i] * reachable[i][j] for i in range(50)]) >= 1)\n",
    "    \n",
    "SetCoverLP.solve()\n",
    " \n",
    "print(SetCoverLP.name)\n",
    "# 格式化输出\n",
    "temple = \"区域 %(zone)d 的决策是：%(status)s\"  \n",
    "# 获得最优解\n",
    "y = np.array(range(50))\n",
    "if pulp.LpStatus[SetCoverLP.status] == \"Optimal\":  \n",
    "        for i in range(50):\n",
    "            if x[i].varValue:#将建仓位置存储到数组中\n",
    "                y[i] = 1\n",
    "            else:\n",
    "                y[i] = 0\n",
    "            output = {'zone': i+1, 'status': '建仓' if x[i].varValue else '--'}\n",
    "            print(temple % output)\n",
    "        print(\"需要建立 {} 个仓库。\".format(pulp.value(SetCoverLP.objective)))\n"
   ]
  }
 ],
 "metadata": {
  "kernelspec": {
   "display_name": "base",
   "language": "python",
   "name": "python3"
  },
  "language_info": {
   "codemirror_mode": {
    "name": "ipython",
    "version": 3
   },
   "file_extension": ".py",
   "mimetype": "text/x-python",
   "name": "python",
   "nbconvert_exporter": "python",
   "pygments_lexer": "ipython3",
   "version": "3.12.2"
  }
 },
 "nbformat": 4,
 "nbformat_minor": 2
}
