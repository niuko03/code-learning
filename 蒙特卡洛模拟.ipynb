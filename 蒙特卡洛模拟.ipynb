{
 "cells": [
  {
   "cell_type": "markdown",
   "metadata": {},
   "source": [
    "### 计算圆周率"
   ]
  },
  {
   "cell_type": "code",
   "execution_count": 4,
   "metadata": {},
   "outputs": [
    {
     "name": "stdout",
     "output_type": "stream",
     "text": [
      "3.143472\n"
     ]
    }
   ],
   "source": [
    "import random\n",
    "def cal_pai_mc(n=1000000):\n",
    "    r = 1.0\n",
    "    a, b = (0.0, 0.0)\n",
    "    x_neg, x_pos = a - r, a + r\n",
    "    y_neg, y_pos = b - r, b + r\n",
    "    m = 0\n",
    "    for i in range(0, n+1):\n",
    "        x = random.uniform(x_neg, x_pos)\n",
    "        y = random.uniform(y_neg, y_pos)\n",
    "        if x**2 + y**2 <= 1.0:\n",
    "            m += 1\n",
    "    return (m / float(n)) * 4\n",
    "res=cal_pai_mc()\n",
    "print(res)"
   ]
  },
  {
   "cell_type": "markdown",
   "metadata": {},
   "source": [
    "### 计算函数定积分值"
   ]
  },
  {
   "cell_type": "code",
   "execution_count": 5,
   "metadata": {},
   "outputs": [
    {
     "name": "stdout",
     "output_type": "stream",
     "text": [
      "0.333824\n"
     ]
    }
   ],
   "source": [
    "import random\n",
    "def cal_integral_mc(n = 1000000):\n",
    "    x_min, x_max = 0.0, 1.0\n",
    "    y_min, y_max = 0.0, 1.0\n",
    "    m = 0\n",
    "    for i in range(0, n+1):\n",
    "        x = random.uniform(x_min, x_max)\n",
    "        y = random.uniform(y_min, y_max)\n",
    "        # x*x > y 表示该点位于曲线的下面。\n",
    "        if x*x > y:\n",
    "            m += 1\n",
    "    #所求的积分值即为曲线下方的面积与正方形面积的比\n",
    "    return m / float(n)\n",
    "res_integral=cal_integral_mc()\n",
    "print(res_integral)"
   ]
  },
  {
   "cell_type": "markdown",
   "metadata": {},
   "source": [
    "### 计算函数极值，可避免陷入局部极值"
   ]
  },
  {
   "cell_type": "code",
   "execution_count": 7,
   "metadata": {},
   "outputs": [
    {
     "name": "stdout",
     "output_type": "stream",
     "text": [
      "(137.2710484205012, 0.7954872912674142)\n"
     ]
    }
   ],
   "source": [
    "import numpy as np\n",
    "import random\n",
    "def cal_extremum_mc(n = 1000000):\n",
    "    y_max = 0.0\n",
    "    x_min, x_max = -2.0, 2.0\n",
    "    y = lambda x:200*np.sin(x)*np.exp(-0.05*x)#匿名函数\n",
    "    for i in range(0, n+1):\n",
    "        x0 = random.uniform(x_min, x_max)\n",
    "        if y(x0) > y_max:\n",
    "            y_max = y(x0)\n",
    "            x_max = x0\n",
    "    return y_max, x_max\n",
    "res_extremum=cal_extremum_mc()\n",
    "print(res_extremum)"
   ]
  },
  {
   "cell_type": "markdown",
   "metadata": {},
   "source": [
    "### 三门问题"
   ]
  },
  {
   "cell_type": "code",
   "execution_count": 1,
   "metadata": {},
   "outputs": [
    {
     "name": "stdout",
     "output_type": "stream",
     "text": [
      "不改变主意的获奖概率： 0.33392\n",
      "改变主意的获奖概率： 0.66608\n"
     ]
    }
   ],
   "source": [
    "import numpy as np\n",
    "\n",
    "#np.random.randint(low,high,size)函数可在指定区间[low，high）内随机取出指定大小的整数\n",
    "#eg:np.random.randint(1,6,(5,8))在区间[1,5]内随机取出大小为5*8的整数矩阵\n",
    "\n",
    "n=100000\n",
    "a=0\n",
    "b=0\n",
    "for i in range(n):\n",
    "    x=np.random.randint(1,4)\n",
    "    y=np.random.randint(1,4)\n",
    "    if x==y:\n",
    "        a+=1\n",
    "    else:\n",
    "        b+=1\n",
    "print('不改变主意的获奖概率：',a/n)\n",
    "print('改变主意的获奖概率：',b/n)"
   ]
  },
  {
   "cell_type": "code",
   "execution_count": 2,
   "metadata": {},
   "outputs": [
    {
     "name": "stdout",
     "output_type": "stream",
     "text": [
      "不改变主意时的获奖概率： 0.16837\n",
      "改变主意时的获奖概率 0.3333\n",
      "没有获奖的概率 0.49833\n"
     ]
    }
   ],
   "source": [
    "n=100000\n",
    "a=0\n",
    "b=0\n",
    "c=0\n",
    "for i in range(n):\n",
    "    x=np.random.randint(1,4)\n",
    "    y=np.random.randint(1,4)\n",
    "    change=np.random.randint(0,2)\n",
    "    if x==y:\n",
    "        if change==0:\n",
    "            a+=1\n",
    "        else:\n",
    "            c+=1\n",
    "    else:\n",
    "        if change==0:\n",
    "            c+=1\n",
    "        else:\n",
    "            b+=1\n",
    "print('不改变主意时的获奖概率：',a/n)\n",
    "print('改变主意时的获奖概率',b/n)\n",
    "print('没有获奖的概率',c/n)"
   ]
  }
 ],
 "metadata": {
  "kernelspec": {
   "display_name": "base",
   "language": "python",
   "name": "python3"
  },
  "language_info": {
   "codemirror_mode": {
    "name": "ipython",
    "version": 3
   },
   "file_extension": ".py",
   "mimetype": "text/x-python",
   "name": "python",
   "nbconvert_exporter": "python",
   "pygments_lexer": "ipython3",
   "version": "3.12.2"
  }
 },
 "nbformat": 4,
 "nbformat_minor": 2
}
