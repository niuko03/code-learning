{
 "cells": [
  {
   "cell_type": "code",
   "execution_count": 1,
   "metadata": {},
   "outputs": [
    {
     "name": "stderr",
     "output_type": "stream",
     "text": [
      "/var/folders/09/wbb5c_x5097glbw2s6c8vcj40000gn/T/ipykernel_94714/3528997724.py:10: DeprecationWarning: `magic(...)` is deprecated since IPython 0.13 (warning added in 8.1), use run_line_magic(magic_name, parameter_s).\n",
      "  get_ipython().magic('matplotlib inline')\n"
     ]
    }
   ],
   "source": [
    "import pandas as pd  \n",
    "from sklearn.cluster import KMeans  \n",
    "from sklearn.preprocessing import StandardScaler  \n",
    "from sklearn.metrics import silhouette_score  \n",
    "from sklearn.datasets import make_blobs  \n",
    "import matplotlib.pyplot as plt  \n",
    "import seaborn as sns  \n",
    "import os\n",
    "import math\n",
    "get_ipython().magic('matplotlib inline')\n"
   ]
  },
  {
   "cell_type": "code",
   "execution_count": 2,
   "metadata": {
    "scrolled": false
   },
   "outputs": [
    {
     "data": {
      "text/html": [
       "<div>\n",
       "<style scoped>\n",
       "    .dataframe tbody tr th:only-of-type {\n",
       "        vertical-align: middle;\n",
       "    }\n",
       "\n",
       "    .dataframe tbody tr th {\n",
       "        vertical-align: top;\n",
       "    }\n",
       "\n",
       "    .dataframe thead th {\n",
       "        text-align: right;\n",
       "    }\n",
       "</style>\n",
       "<table border=\"1\" class=\"dataframe\">\n",
       "  <thead>\n",
       "    <tr style=\"text-align: right;\">\n",
       "      <th></th>\n",
       "      <th>Mode</th>\n",
       "      <th>X</th>\n",
       "      <th>Y</th>\n",
       "      <th>Demand</th>\n",
       "    </tr>\n",
       "    <tr>\n",
       "      <th>ShipmentID</th>\n",
       "      <th></th>\n",
       "      <th></th>\n",
       "      <th></th>\n",
       "      <th></th>\n",
       "    </tr>\n",
       "  </thead>\n",
       "  <tbody>\n",
       "    <tr>\n",
       "      <th>1</th>\n",
       "      <td>TL</td>\n",
       "      <td>59</td>\n",
       "      <td>39</td>\n",
       "      <td>30520</td>\n",
       "    </tr>\n",
       "    <tr>\n",
       "      <th>2</th>\n",
       "      <td>TL</td>\n",
       "      <td>68</td>\n",
       "      <td>30</td>\n",
       "      <td>35468</td>\n",
       "    </tr>\n",
       "    <tr>\n",
       "      <th>3</th>\n",
       "      <td>TL</td>\n",
       "      <td>35</td>\n",
       "      <td>85</td>\n",
       "      <td>40619</td>\n",
       "    </tr>\n",
       "    <tr>\n",
       "      <th>4</th>\n",
       "      <td>TL</td>\n",
       "      <td>27</td>\n",
       "      <td>61</td>\n",
       "      <td>37463</td>\n",
       "    </tr>\n",
       "    <tr>\n",
       "      <th>5</th>\n",
       "      <td>TL</td>\n",
       "      <td>32</td>\n",
       "      <td>52</td>\n",
       "      <td>44799</td>\n",
       "    </tr>\n",
       "    <tr>\n",
       "      <th>6</th>\n",
       "      <td>TL</td>\n",
       "      <td>65</td>\n",
       "      <td>68</td>\n",
       "      <td>41661</td>\n",
       "    </tr>\n",
       "    <tr>\n",
       "      <th>7</th>\n",
       "      <td>TL</td>\n",
       "      <td>32</td>\n",
       "      <td>56</td>\n",
       "      <td>40772</td>\n",
       "    </tr>\n",
       "    <tr>\n",
       "      <th>8</th>\n",
       "      <td>TL</td>\n",
       "      <td>56</td>\n",
       "      <td>62</td>\n",
       "      <td>26378</td>\n",
       "    </tr>\n",
       "    <tr>\n",
       "      <th>9</th>\n",
       "      <td>TL</td>\n",
       "      <td>24</td>\n",
       "      <td>34</td>\n",
       "      <td>24645</td>\n",
       "    </tr>\n",
       "    <tr>\n",
       "      <th>10</th>\n",
       "      <td>TL</td>\n",
       "      <td>62</td>\n",
       "      <td>52</td>\n",
       "      <td>24093</td>\n",
       "    </tr>\n",
       "  </tbody>\n",
       "</table>\n",
       "</div>"
      ],
      "text/plain": [
       "           Mode   X   Y  Demand\n",
       "ShipmentID                     \n",
       "1            TL  59  39   30520\n",
       "2            TL  68  30   35468\n",
       "3            TL  35  85   40619\n",
       "4            TL  27  61   37463\n",
       "5            TL  32  52   44799\n",
       "6            TL  65  68   41661\n",
       "7            TL  32  56   40772\n",
       "8            TL  56  62   26378\n",
       "9            TL  24  34   24645\n",
       "10           TL  62  52   24093"
      ]
     },
     "execution_count": 2,
     "metadata": {},
     "output_type": "execute_result"
    }
   ],
   "source": [
    "# 数据导入\n",
    "os.chdir(r'/Users/niuko/作业/供应链系统设计与规划/供应链系统规划与设计实验课程材料/13 实验十三数据处理：基于K-mean的聚类分析/')\n",
    "data = pd.read_excel(\"aggregating-customers.xlsx\")\n",
    "data.set_index('ShipmentID', inplace=True)  \n",
    "data.head(10)"
   ]
  },
  {
   "cell_type": "code",
   "execution_count": 3,
   "metadata": {
    "scrolled": true
   },
   "outputs": [
    {
     "data": {
      "text/html": [
       "<div>\n",
       "<style scoped>\n",
       "    .dataframe tbody tr th:only-of-type {\n",
       "        vertical-align: middle;\n",
       "    }\n",
       "\n",
       "    .dataframe tbody tr th {\n",
       "        vertical-align: top;\n",
       "    }\n",
       "\n",
       "    .dataframe thead th {\n",
       "        text-align: right;\n",
       "    }\n",
       "</style>\n",
       "<table border=\"1\" class=\"dataframe\">\n",
       "  <thead>\n",
       "    <tr style=\"text-align: right;\">\n",
       "      <th></th>\n",
       "      <th>X</th>\n",
       "      <th>Y</th>\n",
       "      <th>Demand</th>\n",
       "    </tr>\n",
       "  </thead>\n",
       "  <tbody>\n",
       "    <tr>\n",
       "      <th>count</th>\n",
       "      <td>150.000000</td>\n",
       "      <td>150.000000</td>\n",
       "      <td>150.000000</td>\n",
       "    </tr>\n",
       "    <tr>\n",
       "      <th>mean</th>\n",
       "      <td>48.020000</td>\n",
       "      <td>54.866667</td>\n",
       "      <td>35237.060000</td>\n",
       "    </tr>\n",
       "    <tr>\n",
       "      <th>std</th>\n",
       "      <td>17.986374</td>\n",
       "      <td>19.223401</td>\n",
       "      <td>6426.759787</td>\n",
       "    </tr>\n",
       "    <tr>\n",
       "      <th>min</th>\n",
       "      <td>20.000000</td>\n",
       "      <td>20.000000</td>\n",
       "      <td>22679.000000</td>\n",
       "    </tr>\n",
       "    <tr>\n",
       "      <th>25%</th>\n",
       "      <td>32.000000</td>\n",
       "      <td>38.000000</td>\n",
       "      <td>30232.500000</td>\n",
       "    </tr>\n",
       "    <tr>\n",
       "      <th>50%</th>\n",
       "      <td>47.000000</td>\n",
       "      <td>55.000000</td>\n",
       "      <td>35629.000000</td>\n",
       "    </tr>\n",
       "    <tr>\n",
       "      <th>75%</th>\n",
       "      <td>63.000000</td>\n",
       "      <td>71.000000</td>\n",
       "      <td>41205.000000</td>\n",
       "    </tr>\n",
       "    <tr>\n",
       "      <th>max</th>\n",
       "      <td>79.000000</td>\n",
       "      <td>90.000000</td>\n",
       "      <td>44941.000000</td>\n",
       "    </tr>\n",
       "  </tbody>\n",
       "</table>\n",
       "</div>"
      ],
      "text/plain": [
       "                X           Y        Demand\n",
       "count  150.000000  150.000000    150.000000\n",
       "mean    48.020000   54.866667  35237.060000\n",
       "std     17.986374   19.223401   6426.759787\n",
       "min     20.000000   20.000000  22679.000000\n",
       "25%     32.000000   38.000000  30232.500000\n",
       "50%     47.000000   55.000000  35629.000000\n",
       "75%     63.000000   71.000000  41205.000000\n",
       "max     79.000000   90.000000  44941.000000"
      ]
     },
     "execution_count": 3,
     "metadata": {},
     "output_type": "execute_result"
    }
   ],
   "source": [
    "data.describe()"
   ]
  },
  {
   "cell_type": "code",
   "execution_count": 6,
   "metadata": {},
   "outputs": [
    {
     "data": {
      "text/plain": [
       "Mode\n",
       "TL     119\n",
       "LTL     31\n",
       "Name: count, dtype: int64"
      ]
     },
     "execution_count": 6,
     "metadata": {},
     "output_type": "execute_result"
    }
   ],
   "source": [
    "# 计算分类变量频率\n",
    "data['Mode'].value_counts()"
   ]
  },
  {
   "cell_type": "code",
   "execution_count": 7,
   "metadata": {},
   "outputs": [
    {
     "data": {
      "text/plain": [
       "Mode      object\n",
       "X          int64\n",
       "Y          int64\n",
       "Demand     int64\n",
       "dtype: object"
      ]
     },
     "execution_count": 7,
     "metadata": {},
     "output_type": "execute_result"
    }
   ],
   "source": [
    "# 数据探索与数据清洗\n",
    "data.dtypes"
   ]
  },
  {
   "cell_type": "code",
   "execution_count": 8,
   "metadata": {},
   "outputs": [
    {
     "data": {
      "text/plain": [
       "Mode      object\n",
       "X          int64\n",
       "Y          int64\n",
       "Demand     int64\n",
       "dtype: object"
      ]
     },
     "execution_count": 8,
     "metadata": {},
     "output_type": "execute_result"
    }
   ],
   "source": [
    "data['Mode']=data['Mode'].astype(str)\n",
    "data.dtypes"
   ]
  },
  {
   "cell_type": "code",
   "execution_count": 9,
   "metadata": {},
   "outputs": [
    {
     "data": {
      "text/plain": [
       "0"
      ]
     },
     "execution_count": 9,
     "metadata": {},
     "output_type": "execute_result"
    }
   ],
   "source": [
    "##查看有无重复值\n",
    "data.duplicated().sum()\n",
    "\n",
    "## 重复值的处理，如果有的话\n",
    "# data_location_unique = data_location.drop_duplicates(keep='last') # 保留最后一次出现的项 \n",
    "# data_location_unique = data_location.drop_duplicates(subset=['column1', 'column2']) # 只删除指定列的重复项"
   ]
  },
  {
   "cell_type": "code",
   "execution_count": 10,
   "metadata": {},
   "outputs": [
    {
     "data": {
      "text/plain": [
       "Mode      False\n",
       "X         False\n",
       "Y         False\n",
       "Demand    False\n",
       "dtype: bool"
      ]
     },
     "execution_count": 10,
     "metadata": {},
     "output_type": "execute_result"
    }
   ],
   "source": [
    "##查看有无缺失值\n",
    "data.isnull().any()\n",
    "\n",
    "# if data.isnull().any().any():\n",
    "#    print(\"有缺失值\")\n",
    "# else:\n",
    "#    print(\"没有缺失值\")\n",
    "\n",
    "## 缺失值的处理，如果有的话\n",
    "# data_location.fillna(value=0, inplace=True)  # 将所有缺失值替换为0或value被赋的值，inplace=True允许直接在原DataFrame基础上进行修改\n",
    "# data_location.dropna(inplace=True)  # 删除包含任何缺失值的行"
   ]
  },
  {
   "cell_type": "code",
   "execution_count": 11,
   "metadata": {},
   "outputs": [
    {
     "data": {
      "text/html": [
       "<div>\n",
       "<style scoped>\n",
       "    .dataframe tbody tr th:only-of-type {\n",
       "        vertical-align: middle;\n",
       "    }\n",
       "\n",
       "    .dataframe tbody tr th {\n",
       "        vertical-align: top;\n",
       "    }\n",
       "\n",
       "    .dataframe thead th {\n",
       "        text-align: right;\n",
       "    }\n",
       "</style>\n",
       "<table border=\"1\" class=\"dataframe\">\n",
       "  <thead>\n",
       "    <tr style=\"text-align: right;\">\n",
       "      <th></th>\n",
       "      <th>Mode</th>\n",
       "      <th>X</th>\n",
       "      <th>Y</th>\n",
       "      <th>Demand</th>\n",
       "    </tr>\n",
       "    <tr>\n",
       "      <th>ShipmentID</th>\n",
       "      <th></th>\n",
       "      <th></th>\n",
       "      <th></th>\n",
       "      <th></th>\n",
       "    </tr>\n",
       "  </thead>\n",
       "  <tbody>\n",
       "    <tr>\n",
       "      <th>1</th>\n",
       "      <td>TL</td>\n",
       "      <td>59</td>\n",
       "      <td>39</td>\n",
       "      <td>30520</td>\n",
       "    </tr>\n",
       "    <tr>\n",
       "      <th>2</th>\n",
       "      <td>TL</td>\n",
       "      <td>68</td>\n",
       "      <td>30</td>\n",
       "      <td>35468</td>\n",
       "    </tr>\n",
       "    <tr>\n",
       "      <th>3</th>\n",
       "      <td>TL</td>\n",
       "      <td>35</td>\n",
       "      <td>85</td>\n",
       "      <td>40619</td>\n",
       "    </tr>\n",
       "    <tr>\n",
       "      <th>4</th>\n",
       "      <td>TL</td>\n",
       "      <td>27</td>\n",
       "      <td>61</td>\n",
       "      <td>37463</td>\n",
       "    </tr>\n",
       "    <tr>\n",
       "      <th>5</th>\n",
       "      <td>TL</td>\n",
       "      <td>32</td>\n",
       "      <td>52</td>\n",
       "      <td>44799</td>\n",
       "    </tr>\n",
       "    <tr>\n",
       "      <th>6</th>\n",
       "      <td>TL</td>\n",
       "      <td>65</td>\n",
       "      <td>68</td>\n",
       "      <td>41661</td>\n",
       "    </tr>\n",
       "    <tr>\n",
       "      <th>7</th>\n",
       "      <td>TL</td>\n",
       "      <td>32</td>\n",
       "      <td>56</td>\n",
       "      <td>40772</td>\n",
       "    </tr>\n",
       "    <tr>\n",
       "      <th>8</th>\n",
       "      <td>TL</td>\n",
       "      <td>56</td>\n",
       "      <td>62</td>\n",
       "      <td>26378</td>\n",
       "    </tr>\n",
       "    <tr>\n",
       "      <th>9</th>\n",
       "      <td>TL</td>\n",
       "      <td>24</td>\n",
       "      <td>34</td>\n",
       "      <td>24645</td>\n",
       "    </tr>\n",
       "    <tr>\n",
       "      <th>10</th>\n",
       "      <td>TL</td>\n",
       "      <td>62</td>\n",
       "      <td>52</td>\n",
       "      <td>24093</td>\n",
       "    </tr>\n",
       "  </tbody>\n",
       "</table>\n",
       "</div>"
      ],
      "text/plain": [
       "           Mode   X   Y  Demand\n",
       "ShipmentID                     \n",
       "1            TL  59  39   30520\n",
       "2            TL  68  30   35468\n",
       "3            TL  35  85   40619\n",
       "4            TL  27  61   37463\n",
       "5            TL  32  52   44799\n",
       "6            TL  65  68   41661\n",
       "7            TL  32  56   40772\n",
       "8            TL  56  62   26378\n",
       "9            TL  24  34   24645\n",
       "10           TL  62  52   24093"
      ]
     },
     "execution_count": 11,
     "metadata": {},
     "output_type": "execute_result"
    }
   ],
   "source": [
    "## 根据需求量的K-mean聚类分析\n",
    "# 筛选“Model”为“TL”的数据  \n",
    "data_demand_TL = data[data['Mode'] == 'TL']  \n",
    "data_demand_TL.head(10)"
   ]
  },
  {
   "cell_type": "code",
   "execution_count": 12,
   "metadata": {},
   "outputs": [
    {
     "data": {
      "text/html": [
       "<div>\n",
       "<style scoped>\n",
       "    .dataframe tbody tr th:only-of-type {\n",
       "        vertical-align: middle;\n",
       "    }\n",
       "\n",
       "    .dataframe tbody tr th {\n",
       "        vertical-align: top;\n",
       "    }\n",
       "\n",
       "    .dataframe thead th {\n",
       "        text-align: right;\n",
       "    }\n",
       "</style>\n",
       "<table border=\"1\" class=\"dataframe\">\n",
       "  <thead>\n",
       "    <tr style=\"text-align: right;\">\n",
       "      <th></th>\n",
       "      <th>X</th>\n",
       "      <th>Y</th>\n",
       "      <th>Demand</th>\n",
       "    </tr>\n",
       "  </thead>\n",
       "  <tbody>\n",
       "    <tr>\n",
       "      <th>count</th>\n",
       "      <td>119.000000</td>\n",
       "      <td>119.000000</td>\n",
       "      <td>119.000000</td>\n",
       "    </tr>\n",
       "    <tr>\n",
       "      <th>mean</th>\n",
       "      <td>47.386555</td>\n",
       "      <td>54.941176</td>\n",
       "      <td>35210.109244</td>\n",
       "    </tr>\n",
       "    <tr>\n",
       "      <th>std</th>\n",
       "      <td>17.825001</td>\n",
       "      <td>19.304998</td>\n",
       "      <td>6512.841722</td>\n",
       "    </tr>\n",
       "    <tr>\n",
       "      <th>min</th>\n",
       "      <td>20.000000</td>\n",
       "      <td>20.000000</td>\n",
       "      <td>22679.000000</td>\n",
       "    </tr>\n",
       "    <tr>\n",
       "      <th>25%</th>\n",
       "      <td>32.000000</td>\n",
       "      <td>38.000000</td>\n",
       "      <td>30447.500000</td>\n",
       "    </tr>\n",
       "    <tr>\n",
       "      <th>50%</th>\n",
       "      <td>46.000000</td>\n",
       "      <td>55.000000</td>\n",
       "      <td>35506.000000</td>\n",
       "    </tr>\n",
       "    <tr>\n",
       "      <th>75%</th>\n",
       "      <td>63.000000</td>\n",
       "      <td>71.000000</td>\n",
       "      <td>41284.000000</td>\n",
       "    </tr>\n",
       "    <tr>\n",
       "      <th>max</th>\n",
       "      <td>79.000000</td>\n",
       "      <td>90.000000</td>\n",
       "      <td>44941.000000</td>\n",
       "    </tr>\n",
       "  </tbody>\n",
       "</table>\n",
       "</div>"
      ],
      "text/plain": [
       "                X           Y        Demand\n",
       "count  119.000000  119.000000    119.000000\n",
       "mean    47.386555   54.941176  35210.109244\n",
       "std     17.825001   19.304998   6512.841722\n",
       "min     20.000000   20.000000  22679.000000\n",
       "25%     32.000000   38.000000  30447.500000\n",
       "50%     46.000000   55.000000  35506.000000\n",
       "75%     63.000000   71.000000  41284.000000\n",
       "max     79.000000   90.000000  44941.000000"
      ]
     },
     "execution_count": 12,
     "metadata": {},
     "output_type": "execute_result"
    }
   ],
   "source": [
    "# 查看数据特征\n",
    "data_demand_TL.describe()"
   ]
  },
  {
   "cell_type": "code",
   "execution_count": 13,
   "metadata": {},
   "outputs": [
    {
     "data": {
      "text/plain": [
       "var     4.241711e+07\n",
       "std     6.512842e+03\n",
       "skew   -2.140561e-01\n",
       "Name: Demand, dtype: float64"
      ]
     },
     "execution_count": 13,
     "metadata": {},
     "output_type": "execute_result"
    }
   ],
   "source": [
    "data_demand_TL['Demand'].agg(['var','std','skew'])"
   ]
  },
  {
   "cell_type": "code",
   "execution_count": 14,
   "metadata": {},
   "outputs": [
    {
     "name": "stderr",
     "output_type": "stream",
     "text": [
      "/var/folders/09/wbb5c_x5097glbw2s6c8vcj40000gn/T/ipykernel_94714/4088844201.py:1: UserWarning: \n",
      "\n",
      "`distplot` is a deprecated function and will be removed in seaborn v0.14.0.\n",
      "\n",
      "Please adapt your code to use either `displot` (a figure-level function with\n",
      "similar flexibility) or `histplot` (an axes-level function for histograms).\n",
      "\n",
      "For a guide to updating your code to use the new functions, please see\n",
      "https://gist.github.com/mwaskom/de44147ed2974457ad6372750bbe5751\n",
      "\n",
      "  sns.distplot(data_demand_TL['Demand'],hist=True,kde=True)\n"
     ]
    },
    {
     "data": {
      "text/plain": [
       "<Axes: xlabel='Demand', ylabel='Density'>"
      ]
     },
     "execution_count": 14,
     "metadata": {},
     "output_type": "execute_result"
    },
    {
     "data": {
      "image/png": "[encoded data removed]",
      "text/plain": [
       "<Figure size 640x480 with 1 Axes>"
      ]
     },
     "metadata": {},
     "output_type": "display_data"
    }
   ],
   "source": [
    "sns.distplot(data_demand_TL['Demand'],hist=True,kde=True)"
   ]
  },
  {
   "cell_type": "code",
   "execution_count": 15,
   "metadata": {
    "scrolled": false
   },
   "outputs": [
    {
     "data": {
      "text/plain": [
       "<Axes: ylabel='Demand'>"
      ]
     },
     "execution_count": 15,
     "metadata": {},
     "output_type": "execute_result"
    },
    {
     "data": {
      "image/png": "[encoded data removed]",
      "text/plain": [
       "<Figure size 640x480 with 1 Axes>"
      ]
     },
     "metadata": {},
     "output_type": "display_data"
    }
   ],
   "source": [
    "sns.boxplot(data_demand_TL['Demand'])"
   ]
  },
  {
   "cell_type": "code",
   "execution_count": 16,
   "metadata": {},
   "outputs": [
    {
     "ename": "NameError",
     "evalue": "name 'scaled_features' is not defined",
     "output_type": "error",
     "traceback": [
      "\u001b[0;31m---------------------------------------------------------------------------\u001b[0m",
      "\u001b[0;31mNameError\u001b[0m                                 Traceback (most recent call last)",
      "Cell \u001b[0;32mIn[16], line 6\u001b[0m\n\u001b[1;32m      3\u001b[0m data_demand_TL_scaler \u001b[38;5;241m=\u001b[39m scaler\u001b[38;5;241m.\u001b[39mfit_transform(data_demand_TL[[\u001b[38;5;124m'\u001b[39m\u001b[38;5;124mDemand\u001b[39m\u001b[38;5;124m'\u001b[39m]])  \n\u001b[1;32m      5\u001b[0m \u001b[38;5;66;03m# 查看标准化的数据  \u001b[39;00m\n\u001b[0;32m----> 6\u001b[0m \u001b[38;5;28mprint\u001b[39m(\u001b[38;5;124m\"\u001b[39m\u001b[38;5;124mScaled Demand:\u001b[39m\u001b[38;5;130;01m\\n\u001b[39;00m\u001b[38;5;124m\"\u001b[39m, scaled_features)\n",
      "\u001b[0;31mNameError\u001b[0m: name 'scaled_features' is not defined"
     ]
    }
   ],
   "source": [
    "# 数据标准化\n",
    "scaler = StandardScaler()  \n",
    "data_demand_TL_scaler = scaler.fit_transform(data_demand_TL[['Demand']])  \n",
    "  \n",
    "# 查看标准化的数据  \n",
    "print(\"Scaled Demand:\\n\", scaled_features)"
   ]
  },
  {
   "cell_type": "code",
   "execution_count": 63,
   "metadata": {},
   "outputs": [
    {
     "name": "stderr",
     "output_type": "stream",
     "text": [
      "C:\\Users\\Lenovo\\AppData\\Roaming\\Python\\Python37\\site-packages\\sklearn\\cluster\\_kmeans.py:1037: UserWarning: KMeans is known to have a memory leak on Windows with MKL, when there are less chunks than available threads. You can avoid it by setting the environment variable OMP_NUM_THREADS=1.\n",
      "  \"KMeans is known to have a memory leak on Windows \"\n"
     ]
    },
    {
     "data": {
      "image/png": "[encoded data removed]",
      "text/plain": [
       "<Figure size 432x288 with 1 Axes>"
      ]
     },
     "metadata": {
      "needs_background": "light"
     },
     "output_type": "display_data"
    }
   ],
   "source": [
    "# 肘部法确定k\n",
    "data_demand = pd.DataFrame(data_demand_TL_scaler, columns=['Demand'])  \n",
    "  \n",
    "# 使用肘部法确定最佳k值  \n",
    "wcss = []  \n",
    "for i in range(1, 11):  # 假设我们测试从1到10的k值  \n",
    "    kmeans = KMeans(n_clusters=i, init='k-means++', max_iter=300, n_init=10, random_state=0)  \n",
    "    kmeans.fit(data_demand)  \n",
    "    wcss.append(kmeans.inertia_)  # inertia_是WCSS的值  \n",
    "\n",
    "# 绘制肘部图  \n",
    "plt.plot(range(1, 11), wcss)  \n",
    "plt.title('Elbow Method')  \n",
    "plt.xlabel('Number of clusters')  \n",
    "plt.ylabel('WCSS')  \n",
    "plt.show()  \n",
    "\n",
    "k = 2  \n",
    "kmeans = KMeans(n_clusters=k, random_state=0).fit(data_demand_TL[['X', 'Y']])  \n",
    "\n",
    "# 将聚类标签添加到原始DataFrame  \n",
    "data_demand_TL['Cluster'] = kmeans.labels_  \n",
    "  \n",
    "# 肘部图中，通常WCSS下降幅度开始变缓的点是最佳k值  \n",
    "# 你可以通过观察图形来手动选择这个点，或者使用一些自动化的方法来估计  \n",
    "# 注意：这里没有包括自动化的方法来找到肘点，因为这通常涉及到主观判断或复杂的统计/机器学习方法"
   ]
  },
  {
   "cell_type": "code",
   "execution_count": 64,
   "metadata": {},
   "outputs": [
    {
     "name": "stderr",
     "output_type": "stream",
     "text": [
      "D:\\Anaconda3\\lib\\site-packages\\ipykernel_launcher.py:5: SettingWithCopyWarning: \n",
      "A value is trying to be set on a copy of a slice from a DataFrame.\n",
      "Try using .loc[row_indexer,col_indexer] = value instead\n",
      "\n",
      "See the caveats in the documentation: http://pandas.pydata.org/pandas-docs/stable/indexing.html#indexing-view-versus-copy\n",
      "  \"\"\"\n"
     ]
    },
    {
     "data": {
      "image/png": "[encoded data removed]",
      "text/plain": [
       "<Figure size 1080x432 with 2 Axes>"
      ]
     },
     "metadata": {
      "needs_background": "light"
     },
     "output_type": "display_data"
    }
   ],
   "source": [
    "# 可视化分类前的数据  \n",
    "plt.figure(figsize=(15, 6))  \n",
    "plt.subplot(1, 2, 1)  \n",
    "plt.scatter(data_demand_TL['X'], data_demand_TL['Y'], color='grey', alpha=0.5, label='Before Clustering')  \n",
    "plt.title('Before Clustering')  \n",
    "plt.xlabel('X')  \n",
    "plt.ylabel('Y')  \n",
    "plt.legend()  \n",
    "  \n",
    "# 可视化分类后的数据  \n",
    "plt.subplot(1, 2, 2)  \n",
    "colors = ['red', 'blue','green']  # 根据聚类标签分配颜色  \n",
    "for i in range(k):  \n",
    "    # 这里我们简单地使用点的大小来表示需求量，但也可以考虑使用颜色或其他视觉元素  \n",
    "    plt.scatter(data_demand_TL[data_demand_TL['Cluster'] == i]['X'], data_demand_TL[data_demand_TL['Cluster'] == i]['Y'],  \n",
    "                s=data_demand_TL[data_demand_TL['Cluster'] == i]['Demand'] * 0.001,  # 需求量影响点的大小  \n",
    "                c=colors[i], alpha=0.7, label=f'Cluster {i+1}')  \n",
    "    \n",
    "plt.title('After Clustering')  \n",
    "plt.xlabel('X')  \n",
    "plt.ylabel('Y')  \n",
    "plt.legend()  \n",
    "  \n",
    "plt.tight_layout()  \n",
    "plt.show()"
   ]
  },
  {
   "cell_type": "code",
   "execution_count": 65,
   "metadata": {},
   "outputs": [
    {
     "data": {
      "text/plain": [
       "<matplotlib.axes._subplots.AxesSubplot at 0x1a249e26320>"
      ]
     },
     "execution_count": 65,
     "metadata": {},
     "output_type": "execute_result"
    },
    {
     "data": {
      "image/png": "[encoded data removed]",
      "text/plain": [
       "<Figure size 432x288 with 1 Axes>"
      ]
     },
     "metadata": {},
     "output_type": "display_data"
    }
   ],
   "source": [
    "import matplotlib\n",
    "get_ipython().magic('matplotlib inline')\n",
    "data_demand_TL['Cluster'].value_counts().plot(kind = 'pie',autopct='%.f%%')"
   ]
  },
  {
   "cell_type": "code",
   "execution_count": 68,
   "metadata": {
    "scrolled": true
   },
   "outputs": [],
   "source": [
    "# 根据坐标位置的K-mean聚类分析\n",
    "data_location_base = pd.DataFrame(data)"
   ]
  },
  {
   "cell_type": "code",
   "execution_count": 70,
   "metadata": {},
   "outputs": [
    {
     "data": {
      "image/png": "[encoded data removed]",
      "text/plain": [
       "<Figure size 1080x432 with 2 Axes>"
      ]
     },
     "metadata": {
      "needs_background": "light"
     },
     "output_type": "display_data"
    }
   ],
   "source": [
    "k = 3  \n",
    "kmeans = KMeans(n_clusters=k, random_state=0).fit(data_location_base[['X', 'Y']])  \n",
    "\n",
    "# 将聚类标签添加到原始DataFrame  \n",
    "data_location_base['Cluster'] = kmeans.labels_  \n",
    "    \n",
    "# 可视化分类前的数据  \n",
    "plt.figure(figsize=(15, 6))  \n",
    "plt.subplot(1, 2, 1)  \n",
    "plt.scatter(data_location_base['X'], data_location_base['Y'], color='grey', alpha=0.5, label='Before Clustering')  \n",
    "plt.title('Before Clustering')  \n",
    "plt.xlabel('X')  \n",
    "plt.ylabel('Y')  \n",
    "plt.legend()  \n",
    "  \n",
    "# 可视化分类后的数据  \n",
    "plt.subplot(1, 2, 2)  \n",
    "colors = ['red', 'blue','green']  # 根据聚类标签分配颜色  \n",
    "for i in range(k):  \n",
    "    # 这里我们简单地使用点的大小来表示需求量，但也可以考虑使用颜色或其他视觉元素  \n",
    "    plt.scatter(data_location_base[data_location_base['Cluster'] == i]['X'], data_location_base[data_location_base['Cluster'] == i]['Y'],  \n",
    "                c=colors[i], alpha=0.7, label=f'Cluster {i+1}')  \n",
    "    \n",
    "plt.title('After Clustering')  \n",
    "plt.xlabel('X')  \n",
    "plt.ylabel('Y')  \n",
    "plt.legend()  \n",
    "  \n",
    "plt.tight_layout()  \n",
    "plt.show()"
   ]
  },
  {
   "cell_type": "code",
   "execution_count": 71,
   "metadata": {},
   "outputs": [
    {
     "data": {
      "text/plain": [
       "<matplotlib.axes._subplots.AxesSubplot at 0x1a24aa10b00>"
      ]
     },
     "execution_count": 71,
     "metadata": {},
     "output_type": "execute_result"
    },
    {
     "data": {
      "image/png": "[encoded data removed]",
      "text/plain": [
       "<Figure size 432x288 with 1 Axes>"
      ]
     },
     "metadata": {},
     "output_type": "display_data"
    }
   ],
   "source": [
    "get_ipython().magic('matplotlib inline')\n",
    "data_location_base['Cluster'].value_counts().plot(kind = 'pie',autopct='%.f%%')"
   ]
  }
 ],
 "metadata": {
  "kernelspec": {
   "display_name": "base",
   "language": "python",
   "name": "python3"
  },
  "language_info": {
   "codemirror_mode": {
    "name": "ipython",
    "version": 3
   },
   "file_extension": ".py",
   "mimetype": "text/x-python",
   "name": "python",
   "nbconvert_exporter": "python",
   "pygments_lexer": "ipython3",
   "version": "3.12.2"
  }
 },
 "nbformat": 4,
 "nbformat_minor": 2
}
