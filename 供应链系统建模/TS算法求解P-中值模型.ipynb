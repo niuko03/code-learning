{
 "cells": [
  {
   "cell_type": "markdown",
   "metadata": {},
   "source": [
    "## 实验十五：TS算法求解P-中值模型"
   ]
  },
  {
   "cell_type": "code",
   "execution_count": 244,
   "metadata": {},
   "outputs": [],
   "source": [
    "import math\n",
    "import random \n",
    "import pandas as pd\n",
    "import matplotlib.pyplot as plt\n",
    "from matplotlib.pylab import mpl\n",
    "import time\n",
    "mpl.rcParams['font.sans-serif'] = ['SimHei']  # 中文显示不乱码"
   ]
  },
  {
   "cell_type": "code",
   "execution_count": 245,
   "metadata": {},
   "outputs": [],
   "source": [
    "def get_data():\n",
    "    \n",
    "    DemandLocation = [(88, 16),(25, 76),(69, 13),(73, 56),(80, 100),(22, 92),(32, 84),(73, 46),(29, 10),(92, 32),(44, 44),(55, 26),(71, 27),(51, 91),(89, 54),(43, 28),(40, 78)]\n",
    "    CenterLocation = [(32, 60),(69, 33),(49, 40),(72, 81),(61, 65)]\n",
    "    d = [3,4,5,6,7,4,2,3,4,5,6,3,5,4,3,5,1]#需求量\n",
    "    c = [25,25,25,25,25]#仓库容量设置\n",
    "    c_name = ['A','B','C','D','E'] # 仓库名称\n",
    "    p = 3 #待决策物流中心数量\n",
    "    demand_num = int(len(DemandLocation)) #需求点数量\n",
    "    cargo_num = int(len(CenterLocation)) #备选中心数量\n",
    "    \n",
    "    # 计算中心与需求点之间的距离，生成距离函数\n",
    "    dist_matrix = pd.DataFrame(data=None,columns=range(cargo_num),index=range(demand_num))\n",
    "    for i in range(demand_num):\n",
    "        xi,yi = DemandLocation[i][0],DemandLocation[i][1]\n",
    "        for j in range(len(CenterLocation)):\n",
    "            xj,yj = CenterLocation[j][0],CenterLocation[j][1]\n",
    "            dist_matrix.iloc[i,j] = round(math.sqrt((xi-xj)**2+(yi-yj)**2),2)\n",
    "    \n",
    "    return DemandLocation,CenterLocation,d,c,p,demand_num,cargo_num,dist_matrix,c_name"
   ]
  },
  {
   "cell_type": "code",
   "execution_count": 246,
   "metadata": {},
   "outputs": [],
   "source": [
    "# 编码、初始解产生方式\n",
    "def initialize(demand_num, cargo_num, p):\n",
    "    \"\"\"\n",
    "    in:demand_num-需求点数量，cargo_num-备选点数量，p-要开设的设施数量\n",
    "    out:染色体\n",
    "    \"\"\"\n",
    "    clist = random.sample(range(cargo_num),p)\n",
    "    cargo_chrom = [1 if i in clist else 0 for i in range(cargo_num)]\n",
    "    demand_chrom = [random.choices(range(1,p+1))[0] for i in range(demand_num)]\n",
    "    chrom = cargo_chrom + demand_chrom\n",
    "    \n",
    "    return chrom"
   ]
  },
  {
   "cell_type": "code",
   "execution_count": 247,
   "metadata": {},
   "outputs": [],
   "source": [
    "# 计算路径距离，即评价函数calFitness()\n",
    "def calFitness(chrom, dist_matrix, cargo_num, d, c):\n",
    "## 输入: chrom-染色体，dist_matrix -距离矩阵，cargo_num-备选点数量，d -需求数组，c-备选仓库数组\n",
    "## 输出: dis_sum -总距离\n",
    "    # 初始化数据\n",
    "    dis_sum=0\n",
    "    pick = [] # 存储被选中点\n",
    "    chrom_copy =chrom.copy()\n",
    "    demand_list = [[] for i in range(cargo_num)]# 存储备选点的需求点list\n",
    "    weight = [0 for i in range(cargo_num)]# 存储备选点的总权重\n",
    "    demand = [0 for i in range(cargo_num)]# 存储备选点的总需求\n",
    "    \n",
    "    # 筛选被选中的点\n",
    "    for i in range(cargo_num):\n",
    "        if chrom[i] == 1:\n",
    "            pick.append(i)\n",
    "    \n",
    "    # 遍历所有需求点\n",
    "    for i in range(cargo_num,len(chrom_copy)): \n",
    "        demand_index=i-cargo_num\n",
    "        chrom_copy[i] = pick[chrom_copy[i]-1]#？\n",
    "        demand_list[chrom_copy[i]].append(demand_index)#？\n",
    "        weight[chrom_copy[i]] += dist_matrix.loc[demand_index,chrom_copy[i]]*d[demand_index] #加权距离，累加\n",
    "        demand[chrom_copy[i]] += d[demand_index]\n",
    "    \n",
    "    \n",
    "    flag = 0\n",
    "    for i in range(len(demand)):\n",
    "        if demand[i] > c[i]:\n",
    "            dis_sum = math.pow(10,10)\n",
    "            flag = 1\n",
    "            break\n",
    "    if flag == 0:\n",
    "        dis_sum = round(sum(weight),1)\n",
    "        \n",
    "    return dis_sum\n"
   ]
  },
  {
   "cell_type": "code",
   "execution_count": 248,
   "metadata": {},
   "outputs": [],
   "source": [
    "def traversal_search(chrom,dist_matrix,tabu_list, cargo_num, d, c, p):\n",
    "    #邻域随机遍历搜索，成对交换+单点变异\n",
    "    traversal = 0 #搜索次数\n",
    "    traversal_list = [] #存储局部搜索生成的解,也充当局部禁忌表\n",
    "    traversal_value = [] #存储局部解对应路径距离\n",
    "    while traversal <= traversalMax:\n",
    "        new_chrom = chrom.copy()#复制当前路径，并交换生成新路径\n",
    "        pos1,pos2 = random.randint(0, cargo_num-1),random.randint(0, cargo_num-1)#交换点\n",
    "        new_chrom[pos1],new_chrom[pos2]=new_chrom[pos2],new_chrom[pos1]\n",
    "        \n",
    "        pos1,pos2 = random.randint(cargo_num,len(chrom)-1),random.randint(cargo_num,len(chrom)-1)#交换点\n",
    "        new_chrom[pos1],new_chrom[pos2]=new_chrom[pos2],new_chrom[pos1]\n",
    "        \n",
    "        for i in range(cargo_num,len(chrom)):\n",
    "            if random.random() > 0.75:#一定概率改变\n",
    "                new_chrom[i] = random.randint(1,p)\n",
    "                \n",
    "        new_value = calFitness(new_chrom,dist_matrix, cargo_num, d, c)#当前路径距离\n",
    "        #新生成路径不在全局禁忌表和局部禁忌表中，为有效搜索，否则继续搜索\n",
    "        if (new_chrom not in traversal_list) & (new_chrom not in tabu_list):\n",
    "            traversal_list.append(new_chrom)\n",
    "            traversal_value.append(new_value)\n",
    "            traversal += 1\n",
    "    \n",
    "    return min(traversal_value),traversal_list[traversal_value.index(min(traversal_value))]"
   ]
  },
  {
   "cell_type": "code",
   "execution_count": 287,
   "metadata": {},
   "outputs": [],
   "source": [
    "# 画散点图\n",
    "def draw_scatter(Coordinates1,Coordinates2,labels):\n",
    "    x1=[]\n",
    "    y1=[]\n",
    "    x2=[]\n",
    "    y2=[]\n",
    "    \n",
    "    x1 = [i[0] for i in Coordinates1]\n",
    "    y1 = [i[1] for i in Coordinates1]\n",
    "    plt.scatter(x1, y1, color='#ff69E1', marker='o')\n",
    "\n",
    "    x2 = [i[0] for i in Coordinates2]\n",
    "    y2 = [i[1] for i in Coordinates2]\n",
    "    plt.scatter(x2, y2, color='#4169E1', marker='*')\n",
    "\n",
    "    # 对备选仓库点进行标注\n",
    "    for (x, y), label in zip(zip(x2, y2), labels):\n",
    "        plt.annotate(label, (x, y), textcoords=\"offset points\", xytext=(5,5), ha='center')\n",
    "    \n",
    "    plt.xlabel('x')\n",
    "    plt.ylabel('y')\n",
    "    plt.title('仓库分配方案')\n",
    "    plt.show()\n"
   ]
  },
  {
   "cell_type": "code",
   "execution_count": 288,
   "metadata": {},
   "outputs": [],
   "source": [
    "# 画分布图\n",
    "def draw_path(chrom, DemandLocation, CenterLocation, p, cargo_num,c_name):\n",
    "    centerlist = []\n",
    "    # 识别被选中的仓库点位置\n",
    "    for i in range(cargo_num):\n",
    "        if chrom[i] == 1:\n",
    "            centerlist.append(CenterLocation[i])\n",
    "    \n",
    "    for i in range(cargo_num,len(chrom)):\n",
    "        demand_index=i-cargo_num\n",
    "        if chrom[i] == 1:\n",
    "            plt.plot([centerlist[0][0],DemandLocation[demand_index][0]], \n",
    "                     [centerlist[0][1],DemandLocation[demand_index][1]], 'r-', color='#4169E1', alpha=0.8, linewidth=0.8)\n",
    "        elif chrom[i] == 2:\n",
    "            plt.plot([centerlist[1][0],DemandLocation[demand_index][0]], \n",
    "                     [centerlist[1][1],DemandLocation[demand_index][1]], 'r-', color='#4169E1', alpha=0.8, linewidth=0.8)\n",
    "        elif chrom[i] == 3:\n",
    "            plt.plot([centerlist[2][0],DemandLocation[demand_index][0]], \n",
    "                     [centerlist[2][1],DemandLocation[demand_index][1]], 'r-', color='#4169E1', alpha=0.8, linewidth=0.8)\n",
    "    \n",
    "    # 调用散点图函数\n",
    "    draw_scatter(DemandLocation,CenterLocation,c_name)"
   ]
  },
  {
   "cell_type": "code",
   "execution_count": 289,
   "metadata": {},
   "outputs": [
    {
     "name": "stdout",
     "output_type": "stream",
     "text": [
      "初代最优值 2575.0\n",
      "模型运行中\n",
      "模型求解结束\n"
     ]
    },
    {
     "data": {
      "image/png": "[encoded data removed]",
      "text/plain": [
       "<Figure size 720x360 with 1 Axes>"
      ]
     },
     "metadata": {
      "needs_background": "light"
     },
     "output_type": "display_data"
    }
   ],
   "source": [
    "if __name__ == '__main__':\n",
    "    \n",
    "    start_time=time.time()\n",
    "    \n",
    "    # 数据初始化    \n",
    "    ## TS参数\n",
    "    \"\"\"\n",
    "    tabu_limit禁忌长度\n",
    "    iterMax迭代次数\n",
    "    traversalMax每一代局部搜索次数\n",
    "    \"\"\"\n",
    "    tabu_limit = 100\n",
    "    iterMax = 1000\n",
    "    traversalMax = 100\n",
    "    \n",
    "    # 算法前置准备\n",
    "    tabu_list = [] #禁忌表\n",
    "    tabu_time = [] #禁忌次数\n",
    "    best_value = math.pow(10,10)#较大的初始值，存储最优解\n",
    "    best_line = []#存储最优路径\n",
    "    \n",
    "    # 模型数据导入\n",
    "    DemandLocation,CenterLocation,d,c,p,demand_num,cargo_num,dist_matrix,c_name=get_data()\n",
    "        \n",
    "    # 初始化,随机构造\n",
    "    num = 50\n",
    "    chroms = [initialize(demand_num, cargo_num, p) for i in range(num)]\n",
    "    values = [calFitness(chrom,dist_matrix, cargo_num, d, c) for chrom in chroms]\n",
    "    \n",
    "    best_value = min(values)\n",
    "    best_chrom = chroms[values.index(best_value)]\n",
    "    chrom,value = best_chrom,best_value\n",
    "    # 存储当前最优\n",
    "    print('初代最优值 %.1f' % (best_value))\n",
    "    \n",
    "    best_value_list = []\n",
    "    best_value_list.append(best_value)\n",
    "    generation_values = []  # 存储每代的最优解的目标值\n",
    "    #更新禁忌表\n",
    "    tabu_list.append(best_chrom)\n",
    "    tabu_time.append(tabu_limit)\n",
    "    \n",
    "    itera = 0\n",
    "    print('模型运行中')\n",
    "    while itera <= iterMax:\n",
    "        new_value,new_chrom = traversal_search(chrom,dist_matrix,tabu_list, cargo_num, d, c, p)\n",
    "        if new_value < best_value:#优于最优解\n",
    "            best_value,best_chrom = new_value,new_chrom#更新最优解\n",
    "            best_value_list.append(best_value)\n",
    "        #print('第%.d代最优值 %.1f' % (itera,best_value))\n",
    "        chrom,value = new_chrom,new_value #更新当前解\n",
    "        generation_values.append(best_value)  # 记录当前代的最优目标值\n",
    "        \n",
    "        #更新禁忌表\n",
    "        tabu_time = [x-1 for x in tabu_time]\n",
    "        if 0 in tabu_time:\n",
    "            tabu_list.remove(tabu_list[tabu_time.index(0)])\n",
    "            tabu_time.remove(0)\n",
    "        \n",
    "        tabu_list.append(chrom)\n",
    "        tabu_time.append(tabu_limit)\n",
    "        itera +=1\n",
    "        \n",
    "       \n",
    "    end_time = time.time()\n",
    "    print('模型求解结束')                \n",
    "\n",
    "    # 绘制折线图\n",
    "    plt.figure(figsize=(10, 5))\n",
    "    plt.plot(range(len(generation_values)), generation_values, linestyle='-', color='b')\n",
    "    plt.title('迭代图')\n",
    "    plt.xlabel('Generation')\n",
    "    plt.ylabel('Best Value')\n",
    "    plt.show()"
   ]
  },
  {
   "cell_type": "code",
   "execution_count": 290,
   "metadata": {},
   "outputs": [],
   "source": [
    "# 收集需求点的信息\n",
    "results=[]\n",
    "for demand_index in range(demand_num):\n",
    "    assigned_warehouse = best_chrom[demand_index + cargo_num]\n",
    "    demandpoint={\n",
    "                #'Demand Index': demand_index,\n",
    "                'Assigned Warehouse': c_name[assigned_warehouse],\n",
    "                'Warehouse Location':CenterLocation[assigned_warehouse],\n",
    "                'Demand Location': DemandLocation[demand_index],\n",
    "                'Demand Quantity': d[demand_index]\n",
    "            }\n",
    "    results.append(demandpoint)               \n",
    "df = pd.DataFrame(results)\n",
    "                \n",
    "warehouse_info = []\n",
    "served_demand_points = []\n",
    "for w in range(cargo_num):\n",
    "    if best_chrom[w] == 1:\n",
    "        total_demand_served = 0\n",
    "        for di in range(cargo_num,len(best_chrom)):\n",
    "            if best_chrom[di] == w:\n",
    "                served_demand_points = []\n",
    "                total_demand_served += d[di-5]\n",
    "        warehouse_info.append({\n",
    "        'Warehouse Name': c_name[w],\n",
    "        'Warehouse Location':CenterLocation[w],\n",
    "        'Total Demand Served':total_demand_served\n",
    "    })      \n",
    "df_warehouse = pd.DataFrame(warehouse_info)"
   ]
  },
  {
   "cell_type": "code",
   "execution_count": 293,
   "metadata": {
    "scrolled": false
   },
   "outputs": [
    {
     "name": "stdout",
     "output_type": "stream",
     "text": [
      "模型求解时间:13.6s\n",
      "模型最优解为: [0, 1, 1, 1, 0, 1, 2, 1, 3, 3, 3, 3, 1, 2, 1, 2, 2, 1, 3, 1, 2, 3]\n",
      "模型最优值为: 1624.2\n"
     ]
    },
    {
     "data": {
      "image/png": "[encoded data removed]",
      "text/plain": [
       "<Figure size 432x288 with 1 Axes>"
      ]
     },
     "metadata": {
      "needs_background": "light"
     },
     "output_type": "display_data"
    }
   ],
   "source": [
    "## 求解时间运算\n",
    "time_diff = end_time - start_time\n",
    "print(\"模型求解时间:{:.1f}s\" .format(time_diff))\n",
    "print('模型最优解为:',best_chrom)\n",
    "print('模型最优值为:',best_value )\n",
    "\n",
    "# 画图\n",
    "draw_path(best_chrom, DemandLocation, CenterLocation, p, cargo_num, c_name)\n",
    "\n",
    "writer = pd.ExcelWriter('optimization_results.xlsx')\n",
    "df_warehouse.to_excel(writer,sheet_name='warehouse',index=False)\n",
    "df.to_excel(writer, sheet_name='assignment',index=False)\n",
    "writer.save()\n"
   ]
  },
  {
   "cell_type": "code",
   "execution_count": 292,
   "metadata": {},
   "outputs": [
    {
     "data": {
      "text/plain": [
       "[{'Warehouse Name': 'B',\n",
       "  'Warehouse Location': (69, 33),\n",
       "  'Total Demand Served': 24},\n",
       " {'Warehouse Name': 'C',\n",
       "  'Warehouse Location': (49, 40),\n",
       "  'Total Demand Served': 22},\n",
       " {'Warehouse Name': 'D',\n",
       "  'Warehouse Location': (72, 81),\n",
       "  'Total Demand Served': 24}]"
      ]
     },
     "execution_count": 292,
     "metadata": {},
     "output_type": "execute_result"
    }
   ],
   "source": [
    "warehouse_info"
   ]
  }
 ],
 "metadata": {
  "kernelspec": {
   "display_name": "Python 3",
   "language": "python",
   "name": "python3"
  },
  "language_info": {
   "codemirror_mode": {
    "name": "ipython",
    "version": 3
   },
   "file_extension": ".py",
   "mimetype": "text/x-python",
   "name": "python",
   "nbconvert_exporter": "python",
   "pygments_lexer": "ipython3",
   "version": "3.7.0"
  }
 },
 "nbformat": 4,
 "nbformat_minor": 2
}
