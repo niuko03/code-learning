{
 "cells": [
  {
   "cell_type": "markdown",
   "metadata": {},
   "source": [
    "### 一致性检验"
   ]
  },
  {
   "cell_type": "code",
   "execution_count": null,
   "metadata": {},
   "outputs": [],
   "source": [
    "import numpy as np \n",
    "\n",
    "#定义矩阵A\n",
    "A=np.array([[1,2,3,5],[1/2,1,1/2,2],[1/3,2,1,2],[1/5,1/2,1/2,1]])\n",
    "n=A.shape[0]#获取A的行，0变为1则是获取A的列，shape是获取形状信息\n",
    "#求出最大特征值以及对应的特征向量，np.linalg.eig是numpy库中一个函数，用于计算方阵的特征值与特征向量\n",
    "eig_val,eig_vec=np.linalg.eig(A)#eig_val是特征值,eig_vec是特征向量\n",
    "Max_eig=max(eig_val)#求特征值的最大值\n",
    "\n",
    "CI=(Max_eig-n)/(n-1)\n",
    "RI=[0,0.0001,0.52,0.89,1.12,1.26,1.36,1.41,1.46,1.49,1.52,1.54,1.56,1.58,1.59]\n",
    "#这里RI最多支持n=15\n",
    "#n=2时一定是一致矩阵，所以CI=0，为了避免分母为0，将这里的第二个元素改为了很接近0的正数\n",
    "\n",
    "CR=CI/RI[n-1]\n",
    "\n",
    "print('一致性指标CI=',CI)\n",
    "print('一致性比例CR=',CR)\n",
    "\n",
    "if CR<0.10:\n",
    "    print('因为CR<0.10,所以该判断矩阵的一致性可以接受!')\n",
    "else:\n",
    "    print('注意:CR>=0.10,因此该判断矩阵A需要进行修改!')\n",
    "\n"
   ]
  },
  {
   "cell_type": "markdown",
   "metadata": {},
   "source": [
    "### 算数平均法求权重"
   ]
  },
  {
   "cell_type": "code",
   "execution_count": 8,
   "metadata": {},
   "outputs": [
    {
     "name": "stdout",
     "output_type": "stream",
     "text": [
      "[0.48885991 0.18192996 0.2318927  0.09731744]\n"
     ]
    }
   ],
   "source": [
    "import numpy as np\n",
    "\n",
    "A=np.array([[1,2,3,5],[1/2,1,1/2,2],[1/3,2,1,2],[1/5,1/2,1/2,1]])\n",
    "\n",
    "#np.sum函数可以计算一维数组中所有元素的总和\n",
    "#还可通过指定axis参数来计算多维数组的某个维度上的元素总和，例如在二维数组中，axis=0表示按列计算总和，axis=1表示按行计算总和。\n",
    "ASum=np.sum(A,axis=0)\n",
    "\n",
    "#获取A的行和列\n",
    "n=A.shape[0]\n",
    "\n",
    "#归一化，二维数组除以一维数组，会自动将一维数组扩展为与二维数组相同的形状，然后进行逐元素的除法运算\n",
    "Stand_A=A/ASum\n",
    "\n",
    "#各列相加到同一行\n",
    "ASumer=np.sum(Stand_A,axis=1)\n",
    "\n",
    "#计算权重向量\n",
    "weights=ASumer/n\n",
    "\n",
    "print(weights)"
   ]
  },
  {
   "cell_type": "markdown",
   "metadata": {},
   "source": [
    "### 几何平均法求权重"
   ]
  },
  {
   "cell_type": "code",
   "execution_count": 7,
   "metadata": {},
   "outputs": [
    {
     "name": "stdout",
     "output_type": "stream",
     "text": [
      "[0.49492567 0.17782883 0.22724501 0.1000005 ]\n"
     ]
    }
   ],
   "source": [
    "import numpy as np\n",
    "\n",
    "A=np.array([[1,2,3,5],[1/2,1,1/2,2],[1/3,2,1,2],[1/5,1/2,1/2,1]])\n",
    "\n",
    "#获取A的行和列\n",
    "n=A.shape[0]\n",
    "\n",
    "#将A中每一行元素相乘得到一列向量\n",
    "#np.prod 函数可以计算一维数组中所有元素乘积\n",
    "#还可以通过指定 axis 参数来计算多维数组的某个维度上的元素乘积。axis=0表示按列计算，axis=1表示按行计算\n",
    "prod_A=np.prod(A,axis=1)\n",
    "\n",
    "#将新的向量每个分量开n次方，等价求1/n次方\n",
    "#np.power 是 numpy 库中的一个函数，用于对数组中的元素进行幂运算\n",
    "prod_n_A=np.power(prod_A,1/n)\n",
    "\n",
    "#归一化处理\n",
    "re_prod_A=prod_n_A/np.sum(prod_n_A)\n",
    "\n",
    "print(re_prod_A)"
   ]
  },
  {
   "cell_type": "markdown",
   "metadata": {},
   "source": [
    "### 特征值法求权重"
   ]
  },
  {
   "cell_type": "code",
   "execution_count": 6,
   "metadata": {},
   "outputs": [
    {
     "name": "stdout",
     "output_type": "stream",
     "text": [
      "[0.4933895 +0.j 0.17884562+0.j 0.230339  +0.j 0.09742588+0.j]\n"
     ]
    }
   ],
   "source": [
    "import numpy as np\n",
    "\n",
    "A=np.array([[1,2,3,5],[1/2,1,1/2,2],[1/3,2,1,2],[1/5,1/2,1/2,1]])\n",
    "\n",
    "#获取A的行和列\n",
    "n=A.shape[0]\n",
    "\n",
    "#求出特征值和特征向量\n",
    "eig_values,eig_vectors=np.linalg.eig(A)\n",
    "\n",
    "#找出最大特征值的索引\n",
    "max_index=np.argmax(eig_values)\n",
    "\n",
    "#找出对应的特征向量\n",
    "max_vector=eig_vectors[:,max_index]\n",
    "\n",
    "#对特征向量进行归一化处理，得到权重\n",
    "weights=max_vector/np.sum(max_vector)\n",
    "\n",
    "#输出权重\n",
    "print(weights)"
   ]
  },
  {
   "cell_type": "code",
   "execution_count": null,
   "metadata": {},
   "outputs": [],
   "source": [
    "import numpy as np\n",
    "class AHP:\n",
    "    \"\"\"\n",
    "    相关信息的传入和准备\n",
    "    \"\"\"\n",
    "\n",
    "    def __init__(self, array):\n",
    "        ## 记录矩阵相关信息\n",
    "        self.array = array\n",
    "        ## 记录矩阵大小\n",
    "        self.n = array.shape[0]\n",
    "        # 初始化RI值，用于一致性检验\n",
    "        self.RI_list = [0, 0, 0.52, 0.89, 1.12, 1.26, 1.36, 1.41, 1.46, 1.49, 1.52, 1.54, 1.56, 1.58,\n",
    "                        1.59]\n",
    "        # 矩阵的特征值和特征向量\n",
    "        self.eig_val, self.eig_vector = np.linalg.eig(self.array)\n",
    "        # 矩阵的最大特征值\n",
    "        self.max_eig_val = np.max(self.eig_val)\n",
    "        # 矩阵最大特征值对应的特征向量\n",
    "        self.max_eig_vector = self.eig_vector[:, np.argmax(self.eig_val)].real\n",
    "        # 矩阵的一致性指标CI\n",
    "        self.CI_val = (self.max_eig_val - self.n) / (self.n - 1)\n",
    "        # 矩阵的一致性比例CR\n",
    "        self.CR_val = self.CI_val / (self.RI_list[self.n - 1])\n",
    "\n",
    "    \"\"\"\n",
    "    一致性判断\n",
    "    \"\"\"\n",
    "\n",
    "    def test_consist(self):\n",
    "        # 打印矩阵的一致性指标CI和一致性比例CR\n",
    "        print(\"判断矩阵的CI值为：\" + str(self.CI_val))\n",
    "        print(\"判断矩阵的CR值为：\" + str(self.CR_val))\n",
    "        # 进行一致性检验判断\n",
    "        if self.n == 2:  # 当只有两个子因素的情况\n",
    "            print(\"仅包含两个子因素，不存在一致性问题\")\n",
    "        else:\n",
    "            if self.CR_val < 0.1:  # CR值小于0.1，可以通过一致性检验\n",
    "                print(\"判断矩阵的CR值为\" + str(self.CR_val) + \",通过一致性检验\")\n",
    "                return True\n",
    "            else:  # CR值大于0.1, 一致性检验不通过\n",
    "                print(\"判断矩阵的CR值为\" + str(self.CR_val) + \"未通过一致性检验\")\n",
    "                return False\n",
    "\n",
    "    \"\"\"\n",
    "    算术平均法求权重\n",
    "    \"\"\"\n",
    "\n",
    "    def cal_weight_by_arithmetic_method(self):\n",
    "        # 求矩阵的每列的和\n",
    "        col_sum = np.sum(self.array, axis=0)\n",
    "        # 将判断矩阵按照列归一化\n",
    "        array_normed = self.array / col_sum\n",
    "        # 计算权重向量\n",
    "        array_weight = np.sum(array_normed, axis=1) / self.n\n",
    "        # 打印权重向量\n",
    "        print(\"算术平均法计算得到的权重向量为：\\n\", array_weight)\n",
    "        # 返回权重向量的值\n",
    "        return array_weight\n",
    "\n",
    "    \"\"\"\n",
    "    几何平均法求权重\n",
    "    \"\"\"\n",
    "\n",
    "    def cal_weight__by_geometric_method(self):\n",
    "        # 求矩阵的每列的积\n",
    "        col_product = np.product(self.array, axis=0)\n",
    "        # 将得到的积向量的每个分量进行开n次方\n",
    "        array_power = np.power(col_product, 1 / self.n)\n",
    "        # 将列向量归一化\n",
    "        array_weight = array_power / np.sum(array_power)\n",
    "        # 打印权重向量\n",
    "        print(\"几何平均法计算得到的权重向量为：\\n\", array_weight)\n",
    "        # 返回权重向量的值\n",
    "        return array_weight\n",
    "\n",
    "    \"\"\"\n",
    "    特征值法求权重\n",
    "    \"\"\"\n",
    "\n",
    "    def cal_weight__by_eigenvalue_method(self):\n",
    "        # 将矩阵最大特征值对应的特征向量进行归一化处理就得到了权重\n",
    "        array_weight = self.max_eig_vector / np.sum(self.max_eig_vector)\n",
    "        # 打印权重向量\n",
    "        print(\"特征值法计算得到的权重向量为：\\n\", array_weight)\n",
    "        # 返回权重向量的值\n",
    "        return array_weight\n",
    "\n",
    "\n",
    "if __name__ == \"__main__\":\n",
    "    # 给出判断矩阵\n",
    "    b = np.array([[1, 1 / 3, 1 / 8], [3, 1, 1 / 3], [8, 3, 1]])\n",
    "\n",
    "    # 算术平均法求权重\n",
    "    weight1 = AHP(b).cal_weight_by_arithmetic_method()\n",
    "    # 几何平均法求权重\n",
    "    weight2 = AHP(b).cal_weight__by_geometric_method()\n",
    "    # 特征值法求权重\n",
    "    weight3 = AHP(b).cal_weight__by_eigenvalue_method()\n"
   ]
  }
 ],
 "metadata": {
  "kernelspec": {
   "display_name": "base",
   "language": "python",
   "name": "python3"
  },
  "language_info": {
   "codemirror_mode": {
    "name": "ipython",
    "version": 3
   },
   "file_extension": ".py",
   "mimetype": "text/x-python",
   "name": "python",
   "nbconvert_exporter": "python",
   "pygments_lexer": "ipython3",
   "version": "3.12.2"
  }
 },
 "nbformat": 4,
 "nbformat_minor": 2
}
