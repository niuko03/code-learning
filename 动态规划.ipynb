{
 "cells": [
  {
   "cell_type": "markdown",
   "metadata": {},
   "source": [
    "### 0-1背包问题"
   ]
  },
  {
   "cell_type": "code",
   "execution_count": 4,
   "metadata": {},
   "outputs": [
    {
     "name": "stdout",
     "output_type": "stream",
     "text": [
      "[0, 15, 15, 20, 35]\n"
     ]
    }
   ],
   "source": [
    "weight = [4, 3, 1]\n",
    "value = [30, 20, 15]\n",
    "bag_weight = 4\n",
    "# 初始化: 全为0\n",
    "dp = [0] * (bag_weight + 1)\n",
    "\n",
    "# 先遍历物品, 再遍历背包容量\n",
    "for i in range(len(weight)):\n",
    "    for j in range(bag_weight, weight[i] - 1, -1):\n",
    "        # 递归公式\n",
    "        dp[j] = max(dp[j], dp[j - weight[i]] + value[i])\n",
    "print(dp)\n"
   ]
  },
  {
   "cell_type": "markdown",
   "metadata": {},
   "source": [
    "### 完全背包问题"
   ]
  },
  {
   "cell_type": "code",
   "execution_count": 6,
   "metadata": {},
   "outputs": [
    {
     "name": "stdout",
     "output_type": "stream",
     "text": [
      "60\n",
      "60\n"
     ]
    }
   ],
   "source": [
    "# 1.先遍历物品，再遍历背包\n",
    "def test_complete_pack1():\n",
    "    weight = [1, 3, 4]\n",
    "    value = [15, 20, 30]\n",
    "    bag_weight = 4\n",
    "\n",
    "    dp = [0]*(bag_weight + 1)\n",
    "\n",
    "    for i in range(len(weight)):\n",
    "        for j in range(weight[i], bag_weight + 1):\n",
    "            dp[j] = max(dp[j], dp[j - weight[i]] + value[i])\n",
    "    \n",
    "    print(dp[bag_weight])\n",
    "\n",
    "# 2. 先遍历背包，再遍历物品\n",
    "def test_complete_pack2():\n",
    "    weight = [1, 3, 4]\n",
    "    value = [15, 20, 30]\n",
    "    bag_weight = 4\n",
    "\n",
    "    dp = [0]*(bag_weight + 1)\n",
    "\n",
    "    for j in range(bag_weight + 1):\n",
    "        for i in range(len(weight)):\n",
    "            if j >= weight[i]: dp[j] = max(dp[j], dp[j - weight[i]] + value[i])\n",
    "    \n",
    "    print(dp[bag_weight])\n",
    "\n",
    "\n",
    "if __name__ == '__main__':\n",
    "    test_complete_pack1()\n",
    "    test_complete_pack2()\n"
   ]
  },
  {
   "cell_type": "markdown",
   "metadata": {},
   "source": [
    "### 多重背包"
   ]
  },
  {
   "cell_type": "code",
   "execution_count": 8,
   "metadata": {},
   "outputs": [
    {
     "name": "stdout",
     "output_type": "stream",
     "text": [
      "015303035506060708090\n"
     ]
    }
   ],
   "source": [
    "# 版本一: 将物品全摊开，转化为 01背包问题\n",
    "\n",
    "weight = [1, 3, 4]\n",
    "value = [15, 20, 30]\n",
    "nums = [2, 3, 2]\n",
    "bag_weight = 10\n",
    "# 将物品全部展开，数量全为1\n",
    "for i in range(len(nums)):\n",
    "    if nums[i] > 1:\n",
    "        weight.append(weight[i])\n",
    "        value.append(value[i])\n",
    "        nums[i] -= 1\n",
    "# 动态规划五部曲：\n",
    "\n",
    "dp = [0]*(bag_weight+1)\n",
    "# 遍历物品\n",
    "for i in range(len(weight)):\n",
    "    # 遍历背包\n",
    "    for j in range(bag_weight, weight[i] -1, -1):\n",
    "        dp[j] = max(dp[j], dp[j - weight[i]] + value[i])\n",
    "print(\"\".join(map(str,dp)))"
   ]
  },
  {
   "cell_type": "code",
   "execution_count": 10,
   "metadata": {},
   "outputs": [
    {
     "ename": "TypeError",
     "evalue": "'>' not supported between instances of 'list' and 'type'",
     "output_type": "error",
     "traceback": [
      "\u001b[0;31m---------------------------------------------------------------------------\u001b[0m",
      "\u001b[0;31mTypeError\u001b[0m                                 Traceback (most recent call last)",
      "Cell \u001b[0;32mIn[10], line 13\u001b[0m\n\u001b[1;32m     11\u001b[0m             \u001b[38;5;28;01mif\u001b[39;00m j \u001b[38;5;241m>\u001b[39m\u001b[38;5;241m=\u001b[39m k\u001b[38;5;241m*\u001b[39mweight[i]:\n\u001b[1;32m     12\u001b[0m                 dp[j] \u001b[38;5;241m=\u001b[39m \u001b[38;5;28mmax\u001b[39m(dp[j], dp[j \u001b[38;5;241m-\u001b[39m k\u001b[38;5;241m*\u001b[39mweight[i]] \u001b[38;5;241m+\u001b[39m k\u001b[38;5;241m*\u001b[39mvalue[i])\n\u001b[0;32m---> 13\u001b[0m \u001b[38;5;28mprint\u001b[39m(\u001b[38;5;124m\"\u001b[39m\u001b[38;5;124m\"\u001b[39m\u001b[38;5;241m.\u001b[39mjoin(\u001b[38;5;28mmax\u001b[39m(\u001b[38;5;28mstr\u001b[39m, dp)))\n",
      "\u001b[0;31mTypeError\u001b[0m: '>' not supported between instances of 'list' and 'type'"
     ]
    }
   ],
   "source": [
    "# 版本二： 直接加上个数维度\n",
    "weight = [1, 3, 4]\n",
    "value = [15, 20, 30]\n",
    "nums = [2, 3, 2]\n",
    "bag_weight = 10\n",
    "dp = [0] * (bag_weight + 1)\n",
    "for i in range(len(weight)): # 物品的重量\n",
    "    for j in range(bag_weight, weight[i] - 1, -1): # 背包的重量\n",
    "        # 以上是 01背包\n",
    "        for k in range(1, nums[i]+1):\n",
    "            if j >= k*weight[i]:\n",
    "                dp[j] = max(dp[j], dp[j - k*weight[i]] + k*value[i])\n",
    "print(\"\".join(max(str, dp)))"
   ]
  },
  {
   "cell_type": "code",
   "execution_count": 1,
   "metadata": {},
   "outputs": [
    {
     "ename": "ModuleNotFoundError",
     "evalue": "No module named 'connmysql'",
     "output_type": "error",
     "traceback": [
      "\u001b[0;31m---------------------------------------------------------------------------\u001b[0m",
      "\u001b[0;31mModuleNotFoundError\u001b[0m                       Traceback (most recent call last)",
      "Cell \u001b[0;32mIn[1], line 3\u001b[0m\n\u001b[1;32m      1\u001b[0m \u001b[38;5;28;01mimport\u001b[39;00m \u001b[38;5;21;01mmatplotlib\u001b[39;00m\u001b[38;5;21;01m.\u001b[39;00m\u001b[38;5;21;01mpyplot\u001b[39;00m \u001b[38;5;28;01mas\u001b[39;00m \u001b[38;5;21;01mplt\u001b[39;00m\n\u001b[1;32m      2\u001b[0m \u001b[38;5;28;01mimport\u001b[39;00m \u001b[38;5;21;01mpylab\u001b[39;00m \u001b[38;5;28;01mas\u001b[39;00m \u001b[38;5;21;01mpl\u001b[39;00m\n\u001b[0;32m----> 3\u001b[0m \u001b[38;5;28;01mimport\u001b[39;00m \u001b[38;5;21;01mconnmysql\u001b[39;00m\n\u001b[1;32m      4\u001b[0m \u001b[38;5;28;01mimport\u001b[39;00m \u001b[38;5;21;01mpandas\u001b[39;00m \u001b[38;5;28;01mas\u001b[39;00m \u001b[38;5;21;01mpd\u001b[39;00m\n\u001b[1;32m      6\u001b[0m sql2 \u001b[38;5;241m=\u001b[39m \u001b[38;5;124m\"\u001b[39m\u001b[38;5;124mSELECT ﻿id, distance,duration FROM  trafic\u001b[39m\u001b[38;5;124m\"\u001b[39m\n",
      "\u001b[0;31mModuleNotFoundError\u001b[0m: No module named 'connmysql'"
     ]
    }
   ],
   "source": [
    "import matplotlib.pyplot as plt\n",
    "import pylab as pl\n",
    "import connmysql\n",
    "import pandas as pd\n",
    "\n",
    "sql2 = \"SELECT ﻿id, distance,duration FROM  trafic\"\n",
    "checklist = connmysql.getdata(sql2)\n",
    "ids=[]\n",
    "for i in range(0,len(checklist)):\n",
    "    ids.append(checklist[i][0])\n",
    "time_dataframe = pd.DataFrame(columns=['distance','duration'], index=ids)\n",
    "# print(time_dataframe)\n",
    "for i in range(0,len(checklist)):\n",
    "    id=checklist[i][0]\n",
    "    time_dataframe.at[ids[i],'distance'] = float(checklist[i][1])#distance\n",
    "    time_dataframe.at[ids[i], 'duration'] = float(checklist[i][2] ) # distance\n",
    "# id='100001-100002'\n",
    "# print(time_dataframe.at[id,'distance'])\n",
    "# print(time_dataframe.at['100001-100002','duration'])\n",
    "# list=['100002','100003','100004','100005','100006']\n",
    "        #基于动态规划求得最短路径，计算量会比较小，速度较快\n",
    "list = ['100002', '100003', '100004', '100005', '100006']\n",
    "# 基于动态规划求得最短路径，计算量会比较小，速度较快\n",
    "routelist=[]\n",
    "route_distance=[]\n",
    "for j in range(0,len(list)-1):\n",
    "    print('mm',j)\n",
    "    print('he1', routelist)\n",
    "    print('he2', route_distance)\n",
    "    ids = []\n",
    "    distances, routes = {}, {}\n",
    "    for i in range(0, len(list)):\n",
    "        if len(routelist)==0:#当里面还没有目标在时\n",
    "            id = list[0] + '-'+list[i]\n",
    "            if list[i]!=list[0]:\n",
    "                ids.append(id)\n",
    "        else:\n",
    "            if list[i] not in routelist :#计算过的点不再重复计算\n",
    "                id =  routelist[j]+ '-'+list[i]\n",
    "                ids.append(id)\n",
    "    print('he3',ids)\n",
    "    for k in range(0, len(ids)):\n",
    "        distances[ids[k]] = time_dataframe.at[ids[k], 'distance']\n",
    "    print('he4',distances)\n",
    "    route1 = sorted(distances.items(), key=lambda item: item[1])  # 将最小距离取出来\n",
    "    route_distance.append(route1[0])\n",
    "    # routes[route1[0][0]] = route1[0][1]  # key:100002-100006,values: 3929.0,,保存离最后一个点的最优路线\n",
    "    print('he5',route1)\n",
    "    a=route1[0][0].split('-')\n",
    "    if a[0] not in routelist:\n",
    "        routelist.append(a[0])\n",
    "    if a[1] not in routelist:\n",
    "        routelist.append(a[1])\n",
    "    print('he6', routelist)\n",
    "print('he',routelist)\n",
    "\n"
   ]
  },
  {
   "cell_type": "markdown",
   "metadata": {},
   "source": [
    "### 背包问题"
   ]
  },
  {
   "cell_type": "code",
   "execution_count": 7,
   "metadata": {},
   "outputs": [
    {
     "ename": "FileNotFoundError",
     "evalue": "input_assgin02_01.dat not found.",
     "output_type": "error",
     "traceback": [
      "\u001b[0;31m---------------------------------------------------------------------------\u001b[0m",
      "\u001b[0;31mFileNotFoundError\u001b[0m                         Traceback (most recent call last)",
      "Cell \u001b[0;32mIn[7], line 43\u001b[0m\n\u001b[1;32m     41\u001b[0m \u001b[38;5;66;03m#循环读取文件数据\u001b[39;00m\n\u001b[1;32m     42\u001b[0m \u001b[38;5;28;01mfor\u001b[39;00m file_name \u001b[38;5;129;01min\u001b[39;00m file_name:\n\u001b[0;32m---> 43\u001b[0m \ta \u001b[38;5;241m=\u001b[39m np\u001b[38;5;241m.\u001b[39mloadtxt(file_name)\n\u001b[1;32m     44\u001b[0m \tn \u001b[38;5;241m=\u001b[39m \u001b[38;5;28mint\u001b[39m( a[\u001b[38;5;241m0\u001b[39m][\u001b[38;5;241m0\u001b[39m] )    \u001b[38;5;66;03m#读取物品数量\u001b[39;00m\n\u001b[1;32m     45\u001b[0m \tcapacity \u001b[38;5;241m=\u001b[39m \u001b[38;5;28mint\u001b[39m ( a[\u001b[38;5;241m0\u001b[39m][\u001b[38;5;241m1\u001b[39m] )\n",
      "File \u001b[0;32m/opt/anaconda3/lib/python3.12/site-packages/numpy/lib/npyio.py:1373\u001b[0m, in \u001b[0;36mloadtxt\u001b[0;34m(fname, dtype, comments, delimiter, converters, skiprows, usecols, unpack, ndmin, encoding, max_rows, quotechar, like)\u001b[0m\n\u001b[1;32m   1370\u001b[0m \u001b[38;5;28;01mif\u001b[39;00m \u001b[38;5;28misinstance\u001b[39m(delimiter, \u001b[38;5;28mbytes\u001b[39m):\n\u001b[1;32m   1371\u001b[0m     delimiter \u001b[38;5;241m=\u001b[39m delimiter\u001b[38;5;241m.\u001b[39mdecode(\u001b[38;5;124m'\u001b[39m\u001b[38;5;124mlatin1\u001b[39m\u001b[38;5;124m'\u001b[39m)\n\u001b[0;32m-> 1373\u001b[0m arr \u001b[38;5;241m=\u001b[39m _read(fname, dtype\u001b[38;5;241m=\u001b[39mdtype, comment\u001b[38;5;241m=\u001b[39mcomment, delimiter\u001b[38;5;241m=\u001b[39mdelimiter,\n\u001b[1;32m   1374\u001b[0m             converters\u001b[38;5;241m=\u001b[39mconverters, skiplines\u001b[38;5;241m=\u001b[39mskiprows, usecols\u001b[38;5;241m=\u001b[39musecols,\n\u001b[1;32m   1375\u001b[0m             unpack\u001b[38;5;241m=\u001b[39munpack, ndmin\u001b[38;5;241m=\u001b[39mndmin, encoding\u001b[38;5;241m=\u001b[39mencoding,\n\u001b[1;32m   1376\u001b[0m             max_rows\u001b[38;5;241m=\u001b[39mmax_rows, quote\u001b[38;5;241m=\u001b[39mquotechar)\n\u001b[1;32m   1378\u001b[0m \u001b[38;5;28;01mreturn\u001b[39;00m arr\n",
      "File \u001b[0;32m/opt/anaconda3/lib/python3.12/site-packages/numpy/lib/npyio.py:992\u001b[0m, in \u001b[0;36m_read\u001b[0;34m(fname, delimiter, comment, quote, imaginary_unit, usecols, skiplines, max_rows, converters, ndmin, unpack, dtype, encoding)\u001b[0m\n\u001b[1;32m    990\u001b[0m     fname \u001b[38;5;241m=\u001b[39m os\u001b[38;5;241m.\u001b[39mfspath(fname)\n\u001b[1;32m    991\u001b[0m \u001b[38;5;28;01mif\u001b[39;00m \u001b[38;5;28misinstance\u001b[39m(fname, \u001b[38;5;28mstr\u001b[39m):\n\u001b[0;32m--> 992\u001b[0m     fh \u001b[38;5;241m=\u001b[39m np\u001b[38;5;241m.\u001b[39mlib\u001b[38;5;241m.\u001b[39m_datasource\u001b[38;5;241m.\u001b[39mopen(fname, \u001b[38;5;124m'\u001b[39m\u001b[38;5;124mrt\u001b[39m\u001b[38;5;124m'\u001b[39m, encoding\u001b[38;5;241m=\u001b[39mencoding)\n\u001b[1;32m    993\u001b[0m     \u001b[38;5;28;01mif\u001b[39;00m encoding \u001b[38;5;129;01mis\u001b[39;00m \u001b[38;5;28;01mNone\u001b[39;00m:\n\u001b[1;32m    994\u001b[0m         encoding \u001b[38;5;241m=\u001b[39m \u001b[38;5;28mgetattr\u001b[39m(fh, \u001b[38;5;124m'\u001b[39m\u001b[38;5;124mencoding\u001b[39m\u001b[38;5;124m'\u001b[39m, \u001b[38;5;124m'\u001b[39m\u001b[38;5;124mlatin1\u001b[39m\u001b[38;5;124m'\u001b[39m)\n",
      "File \u001b[0;32m/opt/anaconda3/lib/python3.12/site-packages/numpy/lib/_datasource.py:193\u001b[0m, in \u001b[0;36mopen\u001b[0;34m(path, mode, destpath, encoding, newline)\u001b[0m\n\u001b[1;32m    156\u001b[0m \u001b[38;5;250m\u001b[39m\u001b[38;5;124;03m\"\"\"\u001b[39;00m\n\u001b[1;32m    157\u001b[0m \u001b[38;5;124;03mOpen `path` with `mode` and return the file object.\u001b[39;00m\n\u001b[1;32m    158\u001b[0m \n\u001b[0;32m   (...)\u001b[0m\n\u001b[1;32m    189\u001b[0m \n\u001b[1;32m    190\u001b[0m \u001b[38;5;124;03m\"\"\"\u001b[39;00m\n\u001b[1;32m    192\u001b[0m ds \u001b[38;5;241m=\u001b[39m DataSource(destpath)\n\u001b[0;32m--> 193\u001b[0m \u001b[38;5;28;01mreturn\u001b[39;00m ds\u001b[38;5;241m.\u001b[39mopen(path, mode, encoding\u001b[38;5;241m=\u001b[39mencoding, newline\u001b[38;5;241m=\u001b[39mnewline)\n",
      "File \u001b[0;32m/opt/anaconda3/lib/python3.12/site-packages/numpy/lib/_datasource.py:533\u001b[0m, in \u001b[0;36mDataSource.open\u001b[0;34m(self, path, mode, encoding, newline)\u001b[0m\n\u001b[1;32m    530\u001b[0m     \u001b[38;5;28;01mreturn\u001b[39;00m _file_openers[ext](found, mode\u001b[38;5;241m=\u001b[39mmode,\n\u001b[1;32m    531\u001b[0m                               encoding\u001b[38;5;241m=\u001b[39mencoding, newline\u001b[38;5;241m=\u001b[39mnewline)\n\u001b[1;32m    532\u001b[0m \u001b[38;5;28;01melse\u001b[39;00m:\n\u001b[0;32m--> 533\u001b[0m     \u001b[38;5;28;01mraise\u001b[39;00m \u001b[38;5;167;01mFileNotFoundError\u001b[39;00m(\u001b[38;5;124mf\u001b[39m\u001b[38;5;124m\"\u001b[39m\u001b[38;5;132;01m{\u001b[39;00mpath\u001b[38;5;132;01m}\u001b[39;00m\u001b[38;5;124m not found.\u001b[39m\u001b[38;5;124m\"\u001b[39m)\n",
      "\u001b[0;31mFileNotFoundError\u001b[0m: input_assgin02_01.dat not found."
     ]
    }
   ],
   "source": [
    "# -*- coding: utf-8 -*-\n",
    "import numpy as np\n",
    "import os\n",
    "#0-1背包算法\n",
    "def knapsack(v,w,n,capacity):\n",
    "    i = 0\n",
    "    capacity = capacity +1   #初始化背包容量最大值\n",
    "    m = np.zeros((n,capacity))  #初始化\n",
    "    x = np.zeros(n)\n",
    "    for i in range(n):\n",
    "        for j in range(capacity):\n",
    "            if (j >= w[i]):\n",
    "                m[i][j] = max(m[i - 1][j], m[i - 1][j - w[i]] + v[i])\n",
    "            else:\n",
    "                m[i][j] = m[i - 1][j]\n",
    "    print('动态规划装载表:\\n',m)\n",
    "    capacity = capacity -1\n",
    "    for i in range(n-1, 0, -1):\n",
    "        if (m[i][capacity] == m[i - 1][capacity]):\n",
    "            x[i] = 0\n",
    "        else:\n",
    "            x[i] = 1\n",
    "            capacity -= w[i]\n",
    "    x[0] =1 if (m[1][capacity] > 0) else 0\n",
    "    weight = 0\n",
    "    value = 0\n",
    "    print('装载的物品编号为：')\n",
    "    for i in range(len(x)):\n",
    "        if(x[i] == 1):\n",
    "            weight = weight + w[i]\n",
    "            value = value +v[i]\n",
    "            print(' ',i+1)\n",
    "    print('装载的物品重量为：')\n",
    "    print(weight)\n",
    "    print('装入的物品价值为：')\n",
    "    print(value)\n",
    "    return m\n",
    "\n",
    "file_name = ['input_assgin02_01.dat','input_assgin02_02.dat','input_assgin02_03.dat',\n",
    "             'input_assgin02_04.dat','input_assgin02_05.dat']\n",
    "#循环读取文件数据\n",
    "for file_name in file_name:\n",
    "\ta = np.loadtxt(file_name)\n",
    "\tn = int( a[0][0] )    #读取物品数量\n",
    "\tcapacity = int ( a[0][1] )\n",
    "\tprint('#######################')\n",
    "\tprint ('{0}文件中的测试结果：'.format(file_name))\n",
    "\tprint('物品数量为：\\n',n,'\\n背包载重量为：\\n',capacity)\n",
    "\tw = [0] * n    #初始化物品重量列表\n",
    "\tvalue = [0] * n    #初始化物品价值列表\n",
    "\ta = np.loadtxt(file_name, skiprows = 1, dtype = int) \n",
    "\tfor i in range(n):  \n",
    "\t\tw[i] = int ( a[i][0] )    #读取物品重量列表\n",
    "\t\tvalue[i] = int ( a[i][1] )    #读取物品价值列表\n",
    "\tprint('物品的重量列表为：\\n', w,'\\n物品的价值列表为：\\n', value)\n",
    "\tknapsack(value, w, n, capacity)\n",
    "os.system('pause')"
   ]
  }
 ],
 "metadata": {
  "kernelspec": {
   "display_name": "base",
   "language": "python",
   "name": "python3"
  },
  "language_info": {
   "codemirror_mode": {
    "name": "ipython",
    "version": 3
   },
   "file_extension": ".py",
   "mimetype": "text/x-python",
   "name": "python",
   "nbconvert_exporter": "python",
   "pygments_lexer": "ipython3",
   "version": "3.12.2"
  }
 },
 "nbformat": 4,
 "nbformat_minor": 2
}
